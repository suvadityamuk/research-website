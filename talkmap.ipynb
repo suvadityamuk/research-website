{
 "cells": [
  {
   "cell_type": "markdown",
   "metadata": {},
   "source": [
    "# Leaflet cluster map of talk locations\n",
    "\n",
    "Assuming you are working in a Linux or Windows Subsystem for Linux environment, you may need to install some dependencies. Assuming a clean installation, the following will be needed:\n",
    "\n",
    "```bash\n",
    "sudo apt install jupyter\n",
    "sudo apt install python3-pip\n",
    "pip install getorg --upgrade\n",
    "```\n",
    "\n",
    "After which you can run this from the `_talks/` directory, via:\n",
    "\n",
    "```bash\n",
    " jupyter nbconvert --to notebook --execute talkmap.ipynb --output talkmap_out.ipynb\n",
    "```\n",
    " \n",
    "The `_talks/` directory contains `.md` files of all your talks. This scrapes the location YAML field from each `.md` file, geolocates it with `geopy/Nominatim`, and uses the `getorg` library to output data, HTML, and Javascript for a standalone cluster map."
   ]
  },
  {
   "cell_type": "code",
   "execution_count": 2,
   "metadata": {
    "collapsed": false
   },
   "outputs": [
    {
     "name": "stdout",
     "output_type": "stream",
     "text": [
      "Requirement already satisfied: getorg in ./.venv/lib/python3.13/site-packages (0.3.1)\n",
      "Requirement already satisfied: geopy in ./.venv/lib/python3.13/site-packages (from getorg) (2.4.1)\n",
      "Requirement already satisfied: pygithub in ./.venv/lib/python3.13/site-packages (from getorg) (2.6.1)\n",
      "Requirement already satisfied: retrying in ./.venv/lib/python3.13/site-packages (from getorg) (1.3.4)\n",
      "Requirement already satisfied: geographiclib<3,>=1.52 in ./.venv/lib/python3.13/site-packages (from geopy->getorg) (2.0)\n",
      "Requirement already satisfied: pynacl>=1.4.0 in ./.venv/lib/python3.13/site-packages (from pygithub->getorg) (1.5.0)\n",
      "Requirement already satisfied: requests>=2.14.0 in ./.venv/lib/python3.13/site-packages (from pygithub->getorg) (2.32.3)\n",
      "Requirement already satisfied: pyjwt>=2.4.0 in ./.venv/lib/python3.13/site-packages (from pyjwt[crypto]>=2.4.0->pygithub->getorg) (2.10.1)\n",
      "Requirement already satisfied: typing-extensions>=4.0.0 in ./.venv/lib/python3.13/site-packages (from pygithub->getorg) (4.13.0)\n",
      "Requirement already satisfied: urllib3>=1.26.0 in ./.venv/lib/python3.13/site-packages (from pygithub->getorg) (2.3.0)\n",
      "Requirement already satisfied: Deprecated in ./.venv/lib/python3.13/site-packages (from pygithub->getorg) (1.2.18)\n",
      "Requirement already satisfied: six>=1.7.0 in ./.venv/lib/python3.13/site-packages (from retrying->getorg) (1.17.0)\n",
      "Requirement already satisfied: cryptography>=3.4.0 in ./.venv/lib/python3.13/site-packages (from pyjwt[crypto]>=2.4.0->pygithub->getorg) (44.0.2)\n",
      "Requirement already satisfied: cffi>=1.4.1 in ./.venv/lib/python3.13/site-packages (from pynacl>=1.4.0->pygithub->getorg) (1.17.1)\n",
      "Requirement already satisfied: charset-normalizer<4,>=2 in ./.venv/lib/python3.13/site-packages (from requests>=2.14.0->pygithub->getorg) (3.4.1)\n",
      "Requirement already satisfied: idna<4,>=2.5 in ./.venv/lib/python3.13/site-packages (from requests>=2.14.0->pygithub->getorg) (3.10)\n",
      "Requirement already satisfied: certifi>=2017.4.17 in ./.venv/lib/python3.13/site-packages (from requests>=2.14.0->pygithub->getorg) (2025.1.31)\n",
      "Requirement already satisfied: wrapt<2,>=1.10 in ./.venv/lib/python3.13/site-packages (from Deprecated->pygithub->getorg) (1.17.2)\n",
      "Requirement already satisfied: pycparser in ./.venv/lib/python3.13/site-packages (from cffi>=1.4.1->pynacl>=1.4.0->pygithub->getorg) (2.22)\n"
     ]
    }
   ],
   "source": [
    "# Start by installing the dependencies\n",
    "!pip install getorg --upgrade\n",
    "import glob\n",
    "import getorg\n",
    "from geopy import Nominatim"
   ]
  },
  {
   "cell_type": "code",
   "execution_count": 14,
   "metadata": {
    "collapsed": false
   },
   "outputs": [
    {
     "data": {
      "text/plain": [
       "['./_talks/usc-diffusers.md',\n",
       " './_talks/kerascv-young-restless.md',\n",
       " './_talks/digital-interactions.md',\n",
       " './_talks/pytorch.md',\n",
       " './_talks/model-transfer.md',\n",
       " './_talks/gemini-golang.md',\n",
       " './_talks/rag-tag.md',\n",
       " './_talks/model-garden.md',\n",
       " './_talks/cloud-run.md',\n",
       " './_talks/dist-training.md']"
      ]
     },
     "execution_count": 14,
     "metadata": {},
     "output_type": "execute_result"
    }
   ],
   "source": [
    "# Collect the Markdown files\n",
    "g = glob.glob(\"./_talks/*.md\")\n",
    "g\n"
   ]
  },
  {
   "cell_type": "code",
   "execution_count": 15,
   "metadata": {
    "collapsed": true
   },
   "outputs": [],
   "source": [
    "# Prepare to geolocate\n",
    "geocoder = Nominatim(user_agent=\"academicpages.github.io\")\n",
    "location_dict = {}\n",
    "location = \"\"\n",
    "permalink = \"\"\n",
    "title = \"\""
   ]
  },
  {
   "cell_type": "code",
   "execution_count": 19,
   "metadata": {
    "collapsed": false
   },
   "outputs": [
    {
     "name": "stdout",
     "output_type": "stream",
     "text": [
      "Los Angeles, CA, USA \n",
      " Los Angeles, Los Angeles County, California, United States\n",
      "Kolkata, India \n",
      " Kolkata, West Bengal, India\n",
      "Mumbai, India \n",
      " Mumbai Suburban, Maharashtra, India\n",
      "San Francisco, California \n",
      " San Francisco, California, United States\n",
      "Mumbai, India \n",
      " Mumbai Suburban, Maharashtra, India\n",
      "Seoul, South Korea \n",
      " 서울특별시, 대한민국\n",
      "New Delhi, India \n",
      " New Delhi, Foot Over Bridge 1, Ram Nagar, New Delhi Railway Station, Delhi, Kotwali Tehsil, Central Delhi, Delhi, 110006, India\n",
      "Philadelphia, PA, USA \n",
      " Philadelphia, Philadelphia County, Pennsylvania, United States\n",
      "Mumbai, India \n",
      " Mumbai Suburban, Maharashtra, India\n",
      "Mumbai, India \n",
      " Mumbai Suburban, Maharashtra, India\n"
     ]
    }
   ],
   "source": [
    "import time\n",
    "\n",
    "# Perform geolocation\n",
    "for file in g:\n",
    "    with open(file, 'r') as f:\n",
    "        lines = f.read()\n",
    "        if lines.find('location: \"') > 1:\n",
    "            loc_start = lines.find('location: \"') + 11\n",
    "            lines_trim = lines[loc_start:]\n",
    "            loc_end = lines_trim.find('\"')\n",
    "            location = lines_trim[:loc_end]\n",
    "                            \n",
    "           \n",
    "        location_dict[location] = geocoder.geocode(location)\n",
    "        time.sleep(1)\n",
    "        print(location, \"\\n\", location_dict[location])\n"
   ]
  },
  {
   "cell_type": "code",
   "execution_count": 20,
   "metadata": {
    "collapsed": false
   },
   "outputs": [
    {
     "data": {
      "text/plain": [
       "'Written map to ../talkmap/'"
      ]
     },
     "execution_count": 20,
     "metadata": {},
     "output_type": "execute_result"
    }
   ],
   "source": [
    "# Save the map\n",
    "m = getorg.orgmap.create_map_obj()\n",
    "getorg.orgmap.output_html_cluster_map(location_dict, folder_name=\"../talkmap\", hashed_usernames=False)"
   ]
  },
  {
   "cell_type": "code",
   "execution_count": null,
   "metadata": {
    "collapsed": true
   },
   "outputs": [],
   "source": []
  }
 ],
 "metadata": {
  "anaconda-cloud": {},
  "kernelspec": {
   "display_name": ".venv",
   "language": "python",
   "name": "python3"
  },
  "language_info": {
   "codemirror_mode": {
    "name": "ipython",
    "version": 3
   },
   "file_extension": ".py",
   "mimetype": "text/x-python",
   "name": "python",
   "nbconvert_exporter": "python",
   "pygments_lexer": "ipython3",
   "version": "3.13.2"
  }
 },
 "nbformat": 4,
 "nbformat_minor": 0
}
